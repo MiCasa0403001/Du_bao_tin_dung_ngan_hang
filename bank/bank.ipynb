{
 "cells": [
  {
   "cell_type": "code",
   "execution_count": 5,
   "metadata": {},
   "outputs": [],
   "source": [
    "import pandas as pd \n",
    "import numpy as np\n",
    "import matplotlib.pyplot as plt\n",
    "import seaborn as sns\n",
    "from sklearn.preprocessing import StandardScaler"
   ]
  },
  {
   "cell_type": "code",
   "execution_count": 6,
   "metadata": {},
   "outputs": [
    {
     "data": {
      "text/html": [
       "<div>\n",
       "<style scoped>\n",
       "    .dataframe tbody tr th:only-of-type {\n",
       "        vertical-align: middle;\n",
       "    }\n",
       "\n",
       "    .dataframe tbody tr th {\n",
       "        vertical-align: top;\n",
       "    }\n",
       "\n",
       "    .dataframe thead th {\n",
       "        text-align: right;\n",
       "    }\n",
       "</style>\n",
       "<table border=\"1\" class=\"dataframe\">\n",
       "  <thead>\n",
       "    <tr style=\"text-align: right;\">\n",
       "      <th></th>\n",
       "      <th>age</th>\n",
       "      <th>job</th>\n",
       "      <th>marital</th>\n",
       "      <th>education</th>\n",
       "      <th>default</th>\n",
       "      <th>housing</th>\n",
       "      <th>loan</th>\n",
       "      <th>contact</th>\n",
       "      <th>month</th>\n",
       "      <th>day_of_week</th>\n",
       "      <th>...</th>\n",
       "      <th>campaign</th>\n",
       "      <th>pdays</th>\n",
       "      <th>previous</th>\n",
       "      <th>poutcome</th>\n",
       "      <th>emp.var.rate</th>\n",
       "      <th>cons.price.idx</th>\n",
       "      <th>cons.conf.idx</th>\n",
       "      <th>euribor3m</th>\n",
       "      <th>nr.employed</th>\n",
       "      <th>y</th>\n",
       "    </tr>\n",
       "  </thead>\n",
       "  <tbody>\n",
       "    <tr>\n",
       "      <th>0</th>\n",
       "      <td>56</td>\n",
       "      <td>housemaid</td>\n",
       "      <td>married</td>\n",
       "      <td>basic.4y</td>\n",
       "      <td>no</td>\n",
       "      <td>no</td>\n",
       "      <td>no</td>\n",
       "      <td>telephone</td>\n",
       "      <td>may</td>\n",
       "      <td>mon</td>\n",
       "      <td>...</td>\n",
       "      <td>1</td>\n",
       "      <td>999</td>\n",
       "      <td>0</td>\n",
       "      <td>nonexistent</td>\n",
       "      <td>1.1</td>\n",
       "      <td>93.994</td>\n",
       "      <td>-36.4</td>\n",
       "      <td>4.857</td>\n",
       "      <td>5191.0</td>\n",
       "      <td>no</td>\n",
       "    </tr>\n",
       "    <tr>\n",
       "      <th>1</th>\n",
       "      <td>57</td>\n",
       "      <td>services</td>\n",
       "      <td>married</td>\n",
       "      <td>high.school</td>\n",
       "      <td>unknown</td>\n",
       "      <td>no</td>\n",
       "      <td>no</td>\n",
       "      <td>telephone</td>\n",
       "      <td>may</td>\n",
       "      <td>mon</td>\n",
       "      <td>...</td>\n",
       "      <td>1</td>\n",
       "      <td>999</td>\n",
       "      <td>0</td>\n",
       "      <td>nonexistent</td>\n",
       "      <td>1.1</td>\n",
       "      <td>93.994</td>\n",
       "      <td>-36.4</td>\n",
       "      <td>4.857</td>\n",
       "      <td>5191.0</td>\n",
       "      <td>no</td>\n",
       "    </tr>\n",
       "    <tr>\n",
       "      <th>2</th>\n",
       "      <td>37</td>\n",
       "      <td>services</td>\n",
       "      <td>married</td>\n",
       "      <td>high.school</td>\n",
       "      <td>no</td>\n",
       "      <td>yes</td>\n",
       "      <td>no</td>\n",
       "      <td>telephone</td>\n",
       "      <td>may</td>\n",
       "      <td>mon</td>\n",
       "      <td>...</td>\n",
       "      <td>1</td>\n",
       "      <td>999</td>\n",
       "      <td>0</td>\n",
       "      <td>nonexistent</td>\n",
       "      <td>1.1</td>\n",
       "      <td>93.994</td>\n",
       "      <td>-36.4</td>\n",
       "      <td>4.857</td>\n",
       "      <td>5191.0</td>\n",
       "      <td>no</td>\n",
       "    </tr>\n",
       "    <tr>\n",
       "      <th>3</th>\n",
       "      <td>40</td>\n",
       "      <td>admin.</td>\n",
       "      <td>married</td>\n",
       "      <td>basic.6y</td>\n",
       "      <td>no</td>\n",
       "      <td>no</td>\n",
       "      <td>no</td>\n",
       "      <td>telephone</td>\n",
       "      <td>may</td>\n",
       "      <td>mon</td>\n",
       "      <td>...</td>\n",
       "      <td>1</td>\n",
       "      <td>999</td>\n",
       "      <td>0</td>\n",
       "      <td>nonexistent</td>\n",
       "      <td>1.1</td>\n",
       "      <td>93.994</td>\n",
       "      <td>-36.4</td>\n",
       "      <td>4.857</td>\n",
       "      <td>5191.0</td>\n",
       "      <td>no</td>\n",
       "    </tr>\n",
       "    <tr>\n",
       "      <th>4</th>\n",
       "      <td>56</td>\n",
       "      <td>services</td>\n",
       "      <td>married</td>\n",
       "      <td>high.school</td>\n",
       "      <td>no</td>\n",
       "      <td>no</td>\n",
       "      <td>yes</td>\n",
       "      <td>telephone</td>\n",
       "      <td>may</td>\n",
       "      <td>mon</td>\n",
       "      <td>...</td>\n",
       "      <td>1</td>\n",
       "      <td>999</td>\n",
       "      <td>0</td>\n",
       "      <td>nonexistent</td>\n",
       "      <td>1.1</td>\n",
       "      <td>93.994</td>\n",
       "      <td>-36.4</td>\n",
       "      <td>4.857</td>\n",
       "      <td>5191.0</td>\n",
       "      <td>no</td>\n",
       "    </tr>\n",
       "  </tbody>\n",
       "</table>\n",
       "<p>5 rows × 21 columns</p>\n",
       "</div>"
      ],
      "text/plain": [
       "   age        job  marital    education  default housing loan    contact  \\\n",
       "0   56  housemaid  married     basic.4y       no      no   no  telephone   \n",
       "1   57   services  married  high.school  unknown      no   no  telephone   \n",
       "2   37   services  married  high.school       no     yes   no  telephone   \n",
       "3   40     admin.  married     basic.6y       no      no   no  telephone   \n",
       "4   56   services  married  high.school       no      no  yes  telephone   \n",
       "\n",
       "  month day_of_week  ...  campaign  pdays  previous     poutcome emp.var.rate  \\\n",
       "0   may         mon  ...         1    999         0  nonexistent          1.1   \n",
       "1   may         mon  ...         1    999         0  nonexistent          1.1   \n",
       "2   may         mon  ...         1    999         0  nonexistent          1.1   \n",
       "3   may         mon  ...         1    999         0  nonexistent          1.1   \n",
       "4   may         mon  ...         1    999         0  nonexistent          1.1   \n",
       "\n",
       "   cons.price.idx  cons.conf.idx  euribor3m  nr.employed   y  \n",
       "0          93.994          -36.4      4.857       5191.0  no  \n",
       "1          93.994          -36.4      4.857       5191.0  no  \n",
       "2          93.994          -36.4      4.857       5191.0  no  \n",
       "3          93.994          -36.4      4.857       5191.0  no  \n",
       "4          93.994          -36.4      4.857       5191.0  no  \n",
       "\n",
       "[5 rows x 21 columns]"
      ]
     },
     "execution_count": 6,
     "metadata": {},
     "output_type": "execute_result"
    }
   ],
   "source": [
    "df = pd.read_csv('bank-additional-full.csv', delimiter=';')\n",
    "df.head()"
   ]
  },
  {
   "cell_type": "markdown",
   "metadata": {},
   "source": [
    "Citation Request:\n",
    "  This dataset is publicly available for research. The details are described in [Moro et al., 2014]. \n",
    "  Please include this citation if you plan to use this database:\n",
    "\n",
    "  [Moro et al., 2014] S. Moro, P. Cortez and P. Rita. A Data-Driven Approach to Predict the Success of Bank Telemarketing. Decision Support Systems, In press, http://dx.doi.org/10.1016/j.dss.2014.03.001\n",
    "\n",
    "  Available at: [pdf] http://dx.doi.org/10.1016/j.dss.2014.03.001\n",
    "                [bib] http://www3.dsi.uminho.pt/pcortez/bib/2014-dss.txt\n",
    "\n",
    "1. Title: Bank Marketing (with social/economic context)\n",
    "\n",
    "2. Sources\n",
    "   Created by: Sérgio Moro (ISCTE-IUL), Paulo Cortez (Univ. Minho) and Paulo Rita (ISCTE-IUL) @ 2014 \n",
    "   \n",
    "3. Past Usage: \n",
    "\n",
    "  The full dataset (bank-additional-full.csv) was described and analyzed in:\n",
    "\n",
    "  S. Moro, P. Cortez and P. Rita. A Data-Driven Approach to Predict the Success of Bank Telemarketing. Decision Support Systems (2014), doi:10.1016/j.dss.2014.03.001.\n",
    " \n",
    "4. Relevant Information:\n",
    "\n",
    "   This dataset is based on \"Bank Marketing\" UCI dataset (please check the description at: http://archive.ics.uci.edu/ml/datasets/Bank+Marketing).\n",
    "   The data is enriched by the addition of five new social and economic features/attributes (national wide indicators from a ~10M population country), published by the Banco de Portugal and publicly available at: https://www.bportugal.pt/estatisticasweb.\n",
    "   This dataset is almost identical to the one used in [Moro et al., 2014] (it does not include all attributes due to privacy concerns). \n",
    "   Using the rminer package and R tool (http://cran.r-project.org/web/packages/rminer/), we found that the addition of the five new social and economic attributes (made available here) lead to substantial improvement in the prediction of a success, even when the duration of the call is not included. Note: the file can be read in R using: d=read.table(\"bank-additional-full.csv\",header=TRUE,sep=\";\")\n",
    "   \n",
    "   The zip file includes two datasets: \n",
    "      1) bank-additional-full.csv with all examples, ordered by date (from May 2008 to November 2010).\n",
    "      2) bank-additional.csv with 10% of the examples (4119), randomly selected from bank-additional-full.csv.\n",
    "   The smallest dataset is provided to test more computationally demanding machine learning algorithms (e.g., SVM).\n",
    "\n",
    "   The binary classification goal is to predict if the client will subscribe a bank term deposit (variable y).\n",
    "\n",
    "5. Number of Instances: 41188 for bank-additional-full.csv\n",
    "\n",
    "6. Number of Attributes: 20 + output attribute.\n",
    "\n",
    "7. Attribute information:\n",
    "\n",
    "   For more information, read [Moro et al., 2014].\n",
    "\n",
    "   Input variables:\n",
    "   # bank client data:\n",
    "- 1 - age (numeric)\n",
    "- 2 - job : type of job (categorical: \"admin.\",\"blue-collar\",\"entrepreneur\",\"housemaid\",\"management\",\"retired\",\"self-employed\",\"services\",\"student\",\"technician\",\"unemployed\",\"unknown\")\n",
    "- 3 - marital : marital status (categorical: \"divorced\",\"married\",\"single\",\"unknown\"; note: \"divorced\" means divorced or widowed)\n",
    "- 4 - education (categorical: \"basic.4y\",\"basic.6y\",\"basic.9y\",\"high.school\",\"illiterate\",\"professional.course\",\"university.degree\",\"unknown\")\n",
    "- 5 - default: has credit in default? (categorical: \"no\",\"yes\",\"unknown\")\n",
    "- 6 - housing: has housing loan? (categorical: \"no\",\"yes\",\"unknown\")\n",
    "- 7 - loan: has personal loan? (categorical: \"no\",\"yes\",\"unknown\")\n",
    "   # related with the last contact of the current campaign:\n",
    "- 8 - contact: contact communication type (categorical: \"cellular\",\"telephone\") \n",
    "- 9 - month: last contact month of year (categorical: \"jan\", \"feb\", \"mar\", ..., \"nov\", \"dec\")\n",
    "- 10 - day_of_week: last contact day of the week (categorical: \"mon\",\"tue\",\"wed\",\"thu\",\"fri\")\n",
    "- 11 - duration: last contact duration, in seconds (numeric). Important note:  this attribute highly affects the output target (e.g., if duration=0 then y=\"no\"). Yet, the duration is not known before a call is performed. Also, after the end of the call y is obviously known. Thus, this input should only be included for benchmark purposes and should be discarded if the intention is to have a realistic predictive model.\n",
    "   # other attributes:\n",
    "-  12 - campaign: number of contacts performed during this campaign and for this client (numeric, includes last contact)\n",
    "-  13 - pdays: number of days that passed by after the client was last contacted from a previous campaign (numeric; 999 means client was not previously contacted)\n",
    "-  14 - previous: number of contacts performed before this campaign and for this client (numeric)\n",
    "-  15 - poutcome: outcome of the previous marketing campaign (categorical: \"failure\",\"nonexistent\",\"success\")\n",
    "   # social and economic context attributes\n",
    "-  16 - emp.var.rate: employment variation rate - quarterly indicator (numeric)\n",
    "-  17 - cons.price.idx: consumer price index - monthly indicator (numeric)     \n",
    "-  18 - cons.conf.idx: consumer confidence index - monthly indicator (numeric)     \n",
    "-  19 - euribor3m: euribor 3 month rate - daily indicator (numeric)\n",
    "-  20 - nr.employed: number of employees - quarterly indicator (numeric)\n",
    "\n",
    "  Output variable (desired target):\n",
    "  - 21 - y - has the client subscribed a term deposit? (binary: \"yes\",\"no\")\n",
    "\n",
    "   # note \n",
    "- Missing Attribute Values: There are several missing values in some categorical attributes, all coded with the \"unknown\" label.\n",
    "- These missing values can be treated as a possible class label or using deletion or imputation techniques."
   ]
  },
  {
   "cell_type": "markdown",
   "metadata": {},
   "source": [
    "<h1> 1. Tiền xử lý dữ liệu"
   ]
  },
  {
   "cell_type": "code",
   "execution_count": 7,
   "metadata": {},
   "outputs": [
    {
     "data": {
      "text/plain": [
       "(41188, 21)"
      ]
     },
     "execution_count": 7,
     "metadata": {},
     "output_type": "execute_result"
    }
   ],
   "source": [
    "df.shape\n",
    "# dữ liệu có 41188 dòng và 21 cột "
   ]
  },
  {
   "cell_type": "code",
   "execution_count": 8,
   "metadata": {},
   "outputs": [],
   "source": [
    "df_shape1 = df.shape[0]"
   ]
  },
  {
   "cell_type": "code",
   "execution_count": 9,
   "metadata": {},
   "outputs": [
    {
     "name": "stdout",
     "output_type": "stream",
     "text": [
      "<class 'pandas.core.frame.DataFrame'>\n",
      "RangeIndex: 41188 entries, 0 to 41187\n",
      "Data columns (total 21 columns):\n",
      " #   Column          Non-Null Count  Dtype  \n",
      "---  ------          --------------  -----  \n",
      " 0   age             41188 non-null  int64  \n",
      " 1   job             41188 non-null  object \n",
      " 2   marital         41188 non-null  object \n",
      " 3   education       41188 non-null  object \n",
      " 4   default         41188 non-null  object \n",
      " 5   housing         41188 non-null  object \n",
      " 6   loan            41188 non-null  object \n",
      " 7   contact         41188 non-null  object \n",
      " 8   month           41188 non-null  object \n",
      " 9   day_of_week     41188 non-null  object \n",
      " 10  duration        41188 non-null  int64  \n",
      " 11  campaign        41188 non-null  int64  \n",
      " 12  pdays           41188 non-null  int64  \n",
      " 13  previous        41188 non-null  int64  \n",
      " 14  poutcome        41188 non-null  object \n",
      " 15  emp.var.rate    41188 non-null  float64\n",
      " 16  cons.price.idx  41188 non-null  float64\n",
      " 17  cons.conf.idx   41188 non-null  float64\n",
      " 18  euribor3m       41188 non-null  float64\n",
      " 19  nr.employed     41188 non-null  float64\n",
      " 20  y               41188 non-null  object \n",
      "dtypes: float64(5), int64(5), object(11)\n",
      "memory usage: 6.6+ MB\n"
     ]
    }
   ],
   "source": [
    "df.info()\n",
    "# dữ liệu hiên có 3 dạng là int64, object và float65"
   ]
  },
  {
   "cell_type": "code",
   "execution_count": 10,
   "metadata": {},
   "outputs": [
    {
     "data": {
      "text/plain": [
       "12"
      ]
     },
     "execution_count": 10,
     "metadata": {},
     "output_type": "execute_result"
    }
   ],
   "source": [
    "# Kiểm tra trùng lặp dữ liệu \n",
    "num_dup = df.shape[0] - df.drop_duplicates().shape[0]\n",
    "num_dup"
   ]
  },
  {
   "cell_type": "code",
   "execution_count": 11,
   "metadata": {},
   "outputs": [],
   "source": [
    "# Dữ liệu có 12 quan sát trùng, vì vậy quyết định loại bỏ đi.\n",
    "df.drop_duplicates(inplace=True)"
   ]
  },
  {
   "cell_type": "code",
   "execution_count": 12,
   "metadata": {},
   "outputs": [
    {
     "data": {
      "text/plain": [
       "age               0\n",
       "job               0\n",
       "marital           0\n",
       "education         0\n",
       "default           0\n",
       "housing           0\n",
       "loan              0\n",
       "contact           0\n",
       "month             0\n",
       "day_of_week       0\n",
       "duration          0\n",
       "campaign          0\n",
       "pdays             0\n",
       "previous          0\n",
       "poutcome          0\n",
       "emp.var.rate      0\n",
       "cons.price.idx    0\n",
       "cons.conf.idx     0\n",
       "euribor3m         0\n",
       "nr.employed       0\n",
       "y                 0\n",
       "dtype: int64"
      ]
     },
     "execution_count": 12,
     "metadata": {},
     "output_type": "execute_result"
    }
   ],
   "source": [
    "# Kiểm tra số lượng dữ liệu khuyết thiếu \n",
    "df.isna().sum()"
   ]
  },
  {
   "cell_type": "code",
   "execution_count": 13,
   "metadata": {},
   "outputs": [
    {
     "data": {
      "text/plain": [
       "age                  0\n",
       "job                330\n",
       "marital             80\n",
       "education         1730\n",
       "default           8596\n",
       "housing            990\n",
       "loan               990\n",
       "contact              0\n",
       "month                0\n",
       "day_of_week          0\n",
       "duration             0\n",
       "campaign             0\n",
       "pdays                0\n",
       "previous             0\n",
       "poutcome             0\n",
       "emp.var.rate         0\n",
       "cons.price.idx       0\n",
       "cons.conf.idx        0\n",
       "euribor3m            0\n",
       "nr.employed          0\n",
       "y                    0\n",
       "dtype: int64"
      ]
     },
     "execution_count": 13,
     "metadata": {},
     "output_type": "execute_result"
    }
   ],
   "source": [
    "# Có thể thấy rằng dữ liệu không bị khuyết thiếu, tuy nhiên có 1 vài quan sát trong dữ liệu là \"unknown\" vì vậy đây là khuyết thiếu trong bộ dữ liệu.\n",
    "(df == 'unknown').sum(axis = 0)"
   ]
  },
  {
   "cell_type": "code",
   "execution_count": 14,
   "metadata": {},
   "outputs": [
    {
     "data": {
      "text/html": [
       "<div>\n",
       "<style scoped>\n",
       "    .dataframe tbody tr th:only-of-type {\n",
       "        vertical-align: middle;\n",
       "    }\n",
       "\n",
       "    .dataframe tbody tr th {\n",
       "        vertical-align: top;\n",
       "    }\n",
       "\n",
       "    .dataframe thead th {\n",
       "        text-align: right;\n",
       "    }\n",
       "</style>\n",
       "<table border=\"1\" class=\"dataframe\">\n",
       "  <thead>\n",
       "    <tr style=\"text-align: right;\">\n",
       "      <th></th>\n",
       "      <th>unknown</th>\n",
       "      <th>Percent</th>\n",
       "    </tr>\n",
       "  </thead>\n",
       "  <tbody>\n",
       "    <tr>\n",
       "      <th>default</th>\n",
       "      <td>8596</td>\n",
       "      <td>0.208762</td>\n",
       "    </tr>\n",
       "    <tr>\n",
       "      <th>education</th>\n",
       "      <td>1730</td>\n",
       "      <td>0.042015</td>\n",
       "    </tr>\n",
       "    <tr>\n",
       "      <th>housing</th>\n",
       "      <td>990</td>\n",
       "      <td>0.024043</td>\n",
       "    </tr>\n",
       "    <tr>\n",
       "      <th>loan</th>\n",
       "      <td>990</td>\n",
       "      <td>0.024043</td>\n",
       "    </tr>\n",
       "    <tr>\n",
       "      <th>job</th>\n",
       "      <td>330</td>\n",
       "      <td>0.008014</td>\n",
       "    </tr>\n",
       "    <tr>\n",
       "      <th>marital</th>\n",
       "      <td>80</td>\n",
       "      <td>0.001943</td>\n",
       "    </tr>\n",
       "    <tr>\n",
       "      <th>age</th>\n",
       "      <td>0</td>\n",
       "      <td>0.000000</td>\n",
       "    </tr>\n",
       "    <tr>\n",
       "      <th>poutcome</th>\n",
       "      <td>0</td>\n",
       "      <td>0.000000</td>\n",
       "    </tr>\n",
       "    <tr>\n",
       "      <th>nr.employed</th>\n",
       "      <td>0</td>\n",
       "      <td>0.000000</td>\n",
       "    </tr>\n",
       "    <tr>\n",
       "      <th>euribor3m</th>\n",
       "      <td>0</td>\n",
       "      <td>0.000000</td>\n",
       "    </tr>\n",
       "    <tr>\n",
       "      <th>cons.conf.idx</th>\n",
       "      <td>0</td>\n",
       "      <td>0.000000</td>\n",
       "    </tr>\n",
       "    <tr>\n",
       "      <th>cons.price.idx</th>\n",
       "      <td>0</td>\n",
       "      <td>0.000000</td>\n",
       "    </tr>\n",
       "    <tr>\n",
       "      <th>emp.var.rate</th>\n",
       "      <td>0</td>\n",
       "      <td>0.000000</td>\n",
       "    </tr>\n",
       "    <tr>\n",
       "      <th>duration</th>\n",
       "      <td>0</td>\n",
       "      <td>0.000000</td>\n",
       "    </tr>\n",
       "    <tr>\n",
       "      <th>previous</th>\n",
       "      <td>0</td>\n",
       "      <td>0.000000</td>\n",
       "    </tr>\n",
       "    <tr>\n",
       "      <th>pdays</th>\n",
       "      <td>0</td>\n",
       "      <td>0.000000</td>\n",
       "    </tr>\n",
       "    <tr>\n",
       "      <th>campaign</th>\n",
       "      <td>0</td>\n",
       "      <td>0.000000</td>\n",
       "    </tr>\n",
       "    <tr>\n",
       "      <th>day_of_week</th>\n",
       "      <td>0</td>\n",
       "      <td>0.000000</td>\n",
       "    </tr>\n",
       "    <tr>\n",
       "      <th>month</th>\n",
       "      <td>0</td>\n",
       "      <td>0.000000</td>\n",
       "    </tr>\n",
       "    <tr>\n",
       "      <th>contact</th>\n",
       "      <td>0</td>\n",
       "      <td>0.000000</td>\n",
       "    </tr>\n",
       "    <tr>\n",
       "      <th>y</th>\n",
       "      <td>0</td>\n",
       "      <td>0.000000</td>\n",
       "    </tr>\n",
       "  </tbody>\n",
       "</table>\n",
       "</div>"
      ],
      "text/plain": [
       "                unknown   Percent\n",
       "default            8596  0.208762\n",
       "education          1730  0.042015\n",
       "housing             990  0.024043\n",
       "loan                990  0.024043\n",
       "job                 330  0.008014\n",
       "marital              80  0.001943\n",
       "age                   0  0.000000\n",
       "poutcome              0  0.000000\n",
       "nr.employed           0  0.000000\n",
       "euribor3m             0  0.000000\n",
       "cons.conf.idx         0  0.000000\n",
       "cons.price.idx        0  0.000000\n",
       "emp.var.rate          0  0.000000\n",
       "duration              0  0.000000\n",
       "previous              0  0.000000\n",
       "pdays                 0  0.000000\n",
       "campaign              0  0.000000\n",
       "day_of_week           0  0.000000\n",
       "month                 0  0.000000\n",
       "contact               0  0.000000\n",
       "y                     0  0.000000"
      ]
     },
     "execution_count": 14,
     "metadata": {},
     "output_type": "execute_result"
    },
    {
     "data": {
      "image/png": "[encoded data removed]",
      "text/plain": [
       "<Figure size 1080x432 with 1 Axes>"
      ]
     },
     "metadata": {
      "needs_background": "light"
     },
     "output_type": "display_data"
    }
   ],
   "source": [
    "df1 = (df == 'unknown')\n",
    "# Nhìn dữ trên có thể thấy rằng rất nhiều cột có dữ liệu là unknown\n",
    "unknown = df1.sum().sort_values(ascending=False)\n",
    "percent = (df1.sum()/df.isnull().count()).sort_values()\n",
    "# phần trăm khuyết = số lượng khuyết / tổng số dòng.\n",
    "unknown_data = pd.concat([unknown, percent], axis=1, keys=['unknown', 'Percent'])\n",
    "\n",
    "# Visualization unknown data\n",
    "f, ax = plt.subplots(figsize=(15, 6))\n",
    "plt.xticks(rotation='90')\n",
    "sns.barplot(x=unknown_data.index, y=unknown_data['Percent'])\n",
    "plt.xlabel('Features', fontsize=15)\n",
    "plt.ylabel('Percent of missing values', fontsize=15)\n",
    "plt.title('Percent missing data by feature', fontsize=15)\n",
    "plt.grid()\n",
    "unknown_data\n"
   ]
  },
  {
   "cell_type": "code",
   "execution_count": 15,
   "metadata": {},
   "outputs": [],
   "source": [
    "# Nhận xét: có thể thấy rằng giá trị unknown cao nhất là ở quan sát defauit với hơn 20%, các quan sát còn lại không đáng kể"
   ]
  },
  {
   "cell_type": "markdown",
   "metadata": {},
   "source": [
    "<h1> Quan sát dữ liệu xuất hiện unknown"
   ]
  },
  {
   "cell_type": "markdown",
   "metadata": {},
   "source": [
    "#### default"
   ]
  },
  {
   "cell_type": "code",
   "execution_count": 16,
   "metadata": {},
   "outputs": [
    {
     "data": {
      "text/plain": [
       "default\n",
       "no         32577\n",
       "unknown     8596\n",
       "yes            3\n",
       "dtype: int64"
      ]
     },
     "execution_count": 16,
     "metadata": {},
     "output_type": "execute_result"
    }
   ],
   "source": [
    "df[['default']].value_counts()\n",
    "# theo định nghĩa thì default hiểu đơn giản là không đáp ứng đủ các điều kiện của khoản vay. Trong trường hợp này có\n",
    "# 8596 khách hàng không rõ là có đáp ứng đủ hay không ( chưa kiểm định ), 32577 khách hàng đáp ứng đủ điều kiện và 3 khách hàng là không\n",
    "# quyết định đổi unknown thành ' undefined' "
   ]
  },
  {
   "cell_type": "code",
   "execution_count": 17,
   "metadata": {},
   "outputs": [],
   "source": [
    "df['default'].replace('unknown', 'undefined', inplace = True)"
   ]
  },
  {
   "cell_type": "code",
   "execution_count": 18,
   "metadata": {},
   "outputs": [
    {
     "data": {
      "text/plain": [
       "no           32577\n",
       "undefined     8596\n",
       "yes              3\n",
       "Name: default, dtype: int64"
      ]
     },
     "execution_count": 18,
     "metadata": {},
     "output_type": "execute_result"
    }
   ],
   "source": [
    "df['default'].value_counts()"
   ]
  },
  {
   "cell_type": "markdown",
   "metadata": {},
   "source": [
    "#### Education"
   ]
  },
  {
   "cell_type": "code",
   "execution_count": 19,
   "metadata": {},
   "outputs": [
    {
     "data": {
      "text/plain": [
       "university.degree      12164\n",
       "high.school             9512\n",
       "basic.9y                6045\n",
       "professional.course     5240\n",
       "basic.4y                4176\n",
       "basic.6y                2291\n",
       "unknown                 1730\n",
       "illiterate                18\n",
       "Name: education, dtype: int64"
      ]
     },
     "execution_count": 19,
     "metadata": {},
     "output_type": "execute_result"
    }
   ],
   "source": [
    "df['education'].value_counts()\n",
    "# Theo nghiên cứu ảnh hưởng nhân khẩu học đến hành vi dùng thẻ tín dụng và gửi tín dụng ngân hàng của \n",
    "# ThS. NGUYỄN CAO QUANG NHẬT (Cao đẳng Công nghệ và Quản trị Sonadezi) và ThS. BÙI VĂN THỤY (Trường Đại học Lạc Hồng)\n",
    "# đã chỉ ra rằng trình độ học vấn có ảnh hưởng nhất định nhưng không đáng kể đến hành vi dùng thẻ tín dụng và gửi tín dụng ngân hàng của khách hàng\n",
    "# => những giá trị unknown trong quan sát này quyết định bỏ đi để không làm nhiễu đến kết quả của bài dự báo.\n",
    "# https://tapchicongthuong.vn/bai-viet/cac-yeu-to-nhan-khau-hoc-anh-huong-den-hanh-vi-su-dung-the-tin-dung-trong-giao-dich-thuong-mai-dien-tu-98055.htm"
   ]
  },
  {
   "cell_type": "code",
   "execution_count": 20,
   "metadata": {},
   "outputs": [],
   "source": [
    "df.drop(df.loc[df['education']=='unknown'].index, inplace=True)"
   ]
  },
  {
   "cell_type": "code",
   "execution_count": 21,
   "metadata": {},
   "outputs": [
    {
     "data": {
      "text/plain": [
       "university.degree      12164\n",
       "high.school             9512\n",
       "basic.9y                6045\n",
       "professional.course     5240\n",
       "basic.4y                4176\n",
       "basic.6y                2291\n",
       "illiterate                18\n",
       "Name: education, dtype: int64"
      ]
     },
     "execution_count": 21,
     "metadata": {},
     "output_type": "execute_result"
    }
   ],
   "source": [
    "df['education'].value_counts() "
   ]
  },
  {
   "cell_type": "markdown",
   "metadata": {},
   "source": [
    "#### Housing"
   ]
  },
  {
   "cell_type": "code",
   "execution_count": 22,
   "metadata": {},
   "outputs": [
    {
     "data": {
      "text/plain": [
       "yes        20696\n",
       "no         17800\n",
       "unknown      950\n",
       "Name: housing, dtype: int64"
      ]
     },
     "execution_count": 22,
     "metadata": {},
     "output_type": "execute_result"
    }
   ],
   "source": [
    "df['housing'].value_counts()\n",
    "# housing loan ảnh hưởng đến việc đăng ký gửi tiền, quyết định thay thế unknown bằng undefinded"
   ]
  },
  {
   "cell_type": "code",
   "execution_count": 23,
   "metadata": {},
   "outputs": [],
   "source": [
    "df['housing'].replace('unknown', 'undefined', inplace = True) "
   ]
  },
  {
   "cell_type": "code",
   "execution_count": 24,
   "metadata": {},
   "outputs": [
    {
     "data": {
      "text/plain": [
       "yes          20696\n",
       "no           17800\n",
       "undefined      950\n",
       "Name: housing, dtype: int64"
      ]
     },
     "execution_count": 24,
     "metadata": {},
     "output_type": "execute_result"
    }
   ],
   "source": [
    "df['housing'].value_counts()"
   ]
  },
  {
   "cell_type": "markdown",
   "metadata": {},
   "source": [
    "#### loan"
   ]
  },
  {
   "cell_type": "code",
   "execution_count": 25,
   "metadata": {},
   "outputs": [],
   "source": [
    "df['loan'].value_counts()\n",
    "# tương tự với khoảng vay cá nhân\n",
    "df['loan'].replace('unknown', 'undefined', inplace = True) "
   ]
  },
  {
   "cell_type": "markdown",
   "metadata": {},
   "source": [
    "#### job, marital"
   ]
  },
  {
   "cell_type": "code",
   "execution_count": 26,
   "metadata": {},
   "outputs": [],
   "source": [
    "df['job'].value_counts()\n",
    "# số lượng job và marital không xác định nhỏ nên quyết định bỏ đi \n",
    "df.drop(df.loc[df['job']=='unknown'].index, inplace=True)\n",
    "df.drop(df.loc[df['marital']=='unknown'].index, inplace=True)\n"
   ]
  },
  {
   "cell_type": "markdown",
   "metadata": {},
   "source": [
    "## summary"
   ]
  },
  {
   "cell_type": "code",
   "execution_count": 27,
   "metadata": {},
   "outputs": [],
   "source": [
    "df_shape2 = df.shape[0]"
   ]
  },
  {
   "cell_type": "code",
   "execution_count": 28,
   "metadata": {},
   "outputs": [
    {
     "name": "stdout",
     "output_type": "stream",
     "text": [
      "dữ liệu còn lại:  95.12479362921239 %\n"
     ]
    }
   ],
   "source": [
    "print('dữ liệu còn lại: ', (df_shape2/df_shape1*100),'%')"
   ]
  },
  {
   "cell_type": "markdown",
   "metadata": {},
   "source": [
    "<h1> 2. data visualization"
   ]
  },
  {
   "cell_type": "code",
   "execution_count": 29,
   "metadata": {},
   "outputs": [
    {
     "data": {
      "text/plain": [
       "Index(['age', 'job', 'marital', 'education', 'default', 'housing', 'loan',\n",
       "       'contact', 'month', 'day_of_week', 'duration', 'campaign', 'pdays',\n",
       "       'previous', 'poutcome', 'emp.var.rate', 'cons.price.idx',\n",
       "       'cons.conf.idx', 'euribor3m', 'nr.employed', 'y'],\n",
       "      dtype='object')"
      ]
     },
     "execution_count": 29,
     "metadata": {},
     "output_type": "execute_result"
    }
   ],
   "source": [
    "df.columns"
   ]
  },
  {
   "cell_type": "code",
   "execution_count": 30,
   "metadata": {},
   "outputs": [
    {
     "data": {
      "text/html": [
       "<div>\n",
       "<style scoped>\n",
       "    .dataframe tbody tr th:only-of-type {\n",
       "        vertical-align: middle;\n",
       "    }\n",
       "\n",
       "    .dataframe tbody tr th {\n",
       "        vertical-align: top;\n",
       "    }\n",
       "\n",
       "    .dataframe thead th {\n",
       "        text-align: right;\n",
       "    }\n",
       "</style>\n",
       "<table border=\"1\" class=\"dataframe\">\n",
       "  <thead>\n",
       "    <tr style=\"text-align: right;\">\n",
       "      <th></th>\n",
       "      <th>age</th>\n",
       "      <th>duration</th>\n",
       "      <th>campaign</th>\n",
       "      <th>pdays</th>\n",
       "      <th>previous</th>\n",
       "      <th>emp.var.rate</th>\n",
       "      <th>cons.price.idx</th>\n",
       "      <th>cons.conf.idx</th>\n",
       "      <th>euribor3m</th>\n",
       "      <th>nr.employed</th>\n",
       "    </tr>\n",
       "  </thead>\n",
       "  <tbody>\n",
       "    <tr>\n",
       "      <th>age</th>\n",
       "      <td>1.000000</td>\n",
       "      <td>0.001615</td>\n",
       "      <td>0.005511</td>\n",
       "      <td>-0.037759</td>\n",
       "      <td>0.027859</td>\n",
       "      <td>-0.002883</td>\n",
       "      <td>-0.000967</td>\n",
       "      <td>0.126898</td>\n",
       "      <td>0.008253</td>\n",
       "      <td>-0.020381</td>\n",
       "    </tr>\n",
       "    <tr>\n",
       "      <th>duration</th>\n",
       "      <td>0.001615</td>\n",
       "      <td>1.000000</td>\n",
       "      <td>-0.071420</td>\n",
       "      <td>-0.044146</td>\n",
       "      <td>0.017331</td>\n",
       "      <td>-0.026100</td>\n",
       "      <td>0.006339</td>\n",
       "      <td>-0.008020</td>\n",
       "      <td>-0.030518</td>\n",
       "      <td>-0.042335</td>\n",
       "    </tr>\n",
       "    <tr>\n",
       "      <th>campaign</th>\n",
       "      <td>0.005511</td>\n",
       "      <td>-0.071420</td>\n",
       "      <td>1.000000</td>\n",
       "      <td>0.051744</td>\n",
       "      <td>-0.078215</td>\n",
       "      <td>0.150013</td>\n",
       "      <td>0.127474</td>\n",
       "      <td>-0.010090</td>\n",
       "      <td>0.134109</td>\n",
       "      <td>0.142471</td>\n",
       "    </tr>\n",
       "    <tr>\n",
       "      <th>pdays</th>\n",
       "      <td>-0.037759</td>\n",
       "      <td>-0.044146</td>\n",
       "      <td>0.051744</td>\n",
       "      <td>1.000000</td>\n",
       "      <td>-0.581873</td>\n",
       "      <td>0.268377</td>\n",
       "      <td>0.079882</td>\n",
       "      <td>-0.089781</td>\n",
       "      <td>0.292038</td>\n",
       "      <td>0.367399</td>\n",
       "    </tr>\n",
       "    <tr>\n",
       "      <th>previous</th>\n",
       "      <td>0.027859</td>\n",
       "      <td>0.017331</td>\n",
       "      <td>-0.078215</td>\n",
       "      <td>-0.581873</td>\n",
       "      <td>1.000000</td>\n",
       "      <td>-0.419887</td>\n",
       "      <td>-0.207865</td>\n",
       "      <td>-0.057165</td>\n",
       "      <td>-0.451557</td>\n",
       "      <td>-0.496268</td>\n",
       "    </tr>\n",
       "    <tr>\n",
       "      <th>emp.var.rate</th>\n",
       "      <td>-0.002883</td>\n",
       "      <td>-0.026100</td>\n",
       "      <td>0.150013</td>\n",
       "      <td>0.268377</td>\n",
       "      <td>-0.419887</td>\n",
       "      <td>1.000000</td>\n",
       "      <td>0.775700</td>\n",
       "      <td>0.211249</td>\n",
       "      <td>0.972416</td>\n",
       "      <td>0.907728</td>\n",
       "    </tr>\n",
       "    <tr>\n",
       "      <th>cons.price.idx</th>\n",
       "      <td>-0.000967</td>\n",
       "      <td>0.006339</td>\n",
       "      <td>0.127474</td>\n",
       "      <td>0.079882</td>\n",
       "      <td>-0.207865</td>\n",
       "      <td>0.775700</td>\n",
       "      <td>1.000000</td>\n",
       "      <td>0.070266</td>\n",
       "      <td>0.689928</td>\n",
       "      <td>0.524571</td>\n",
       "    </tr>\n",
       "    <tr>\n",
       "      <th>cons.conf.idx</th>\n",
       "      <td>0.126898</td>\n",
       "      <td>-0.008020</td>\n",
       "      <td>-0.010090</td>\n",
       "      <td>-0.089781</td>\n",
       "      <td>-0.057165</td>\n",
       "      <td>0.211249</td>\n",
       "      <td>0.070266</td>\n",
       "      <td>1.000000</td>\n",
       "      <td>0.292110</td>\n",
       "      <td>0.114842</td>\n",
       "    </tr>\n",
       "    <tr>\n",
       "      <th>euribor3m</th>\n",
       "      <td>0.008253</td>\n",
       "      <td>-0.030518</td>\n",
       "      <td>0.134109</td>\n",
       "      <td>0.292038</td>\n",
       "      <td>-0.451557</td>\n",
       "      <td>0.972416</td>\n",
       "      <td>0.689928</td>\n",
       "      <td>0.292110</td>\n",
       "      <td>1.000000</td>\n",
       "      <td>0.945242</td>\n",
       "    </tr>\n",
       "    <tr>\n",
       "      <th>nr.employed</th>\n",
       "      <td>-0.020381</td>\n",
       "      <td>-0.042335</td>\n",
       "      <td>0.142471</td>\n",
       "      <td>0.367399</td>\n",
       "      <td>-0.496268</td>\n",
       "      <td>0.907728</td>\n",
       "      <td>0.524571</td>\n",
       "      <td>0.114842</td>\n",
       "      <td>0.945242</td>\n",
       "      <td>1.000000</td>\n",
       "    </tr>\n",
       "  </tbody>\n",
       "</table>\n",
       "</div>"
      ],
      "text/plain": [
       "                     age  duration  campaign     pdays  previous  \\\n",
       "age             1.000000  0.001615  0.005511 -0.037759  0.027859   \n",
       "duration        0.001615  1.000000 -0.071420 -0.044146  0.017331   \n",
       "campaign        0.005511 -0.071420  1.000000  0.051744 -0.078215   \n",
       "pdays          -0.037759 -0.044146  0.051744  1.000000 -0.581873   \n",
       "previous        0.027859  0.017331 -0.078215 -0.581873  1.000000   \n",
       "emp.var.rate   -0.002883 -0.026100  0.150013  0.268377 -0.419887   \n",
       "cons.price.idx -0.000967  0.006339  0.127474  0.079882 -0.207865   \n",
       "cons.conf.idx   0.126898 -0.008020 -0.010090 -0.089781 -0.057165   \n",
       "euribor3m       0.008253 -0.030518  0.134109  0.292038 -0.451557   \n",
       "nr.employed    -0.020381 -0.042335  0.142471  0.367399 -0.496268   \n",
       "\n",
       "                emp.var.rate  cons.price.idx  cons.conf.idx  euribor3m  \\\n",
       "age                -0.002883       -0.000967       0.126898   0.008253   \n",
       "duration           -0.026100        0.006339      -0.008020  -0.030518   \n",
       "campaign            0.150013        0.127474      -0.010090   0.134109   \n",
       "pdays               0.268377        0.079882      -0.089781   0.292038   \n",
       "previous           -0.419887       -0.207865      -0.057165  -0.451557   \n",
       "emp.var.rate        1.000000        0.775700       0.211249   0.972416   \n",
       "cons.price.idx      0.775700        1.000000       0.070266   0.689928   \n",
       "cons.conf.idx       0.211249        0.070266       1.000000   0.292110   \n",
       "euribor3m           0.972416        0.689928       0.292110   1.000000   \n",
       "nr.employed         0.907728        0.524571       0.114842   0.945242   \n",
       "\n",
       "                nr.employed  \n",
       "age               -0.020381  \n",
       "duration          -0.042335  \n",
       "campaign           0.142471  \n",
       "pdays              0.367399  \n",
       "previous          -0.496268  \n",
       "emp.var.rate       0.907728  \n",
       "cons.price.idx     0.524571  \n",
       "cons.conf.idx      0.114842  \n",
       "euribor3m          0.945242  \n",
       "nr.employed        1.000000  "
      ]
     },
     "execution_count": 30,
     "metadata": {},
     "output_type": "execute_result"
    }
   ],
   "source": [
    "df.corr()"
   ]
  },
  {
   "cell_type": "markdown",
   "metadata": {},
   "source": [
    "<h1> Phân loại các quan sát thành biến số và biến phân loại"
   ]
  },
  {
   "cell_type": "code",
   "execution_count": 31,
   "metadata": {},
   "outputs": [],
   "source": [
    "num_colmuns = []\n",
    "cat_columns = []\n",
    "for name, type in dict(df.dtypes).items():\n",
    "        if type =='int64' or type == 'float64':\n",
    "            num_colmuns.append(name)\n",
    "        else:\n",
    "            cat_columns.append(name)       "
   ]
  },
  {
   "cell_type": "code",
   "execution_count": 32,
   "metadata": {},
   "outputs": [
    {
     "data": {
      "text/plain": [
       "[Text(0, 0, 'age'),\n",
       " Text(0, 1, 'duration'),\n",
       " Text(0, 2, 'campaign'),\n",
       " Text(0, 3, 'pdays'),\n",
       " Text(0, 4, 'previous'),\n",
       " Text(0, 5, 'emp.var.rate'),\n",
       " Text(0, 6, 'cons.price.idx'),\n",
       " Text(0, 7, 'cons.conf.idx'),\n",
       " Text(0, 8, 'euribor3m'),\n",
       " Text(0, 9, 'nr.employed')]"
      ]
     },
     "execution_count": 32,
     "metadata": {},
     "output_type": "execute_result"
    },
    {
     "data": {
      "image/png": "[encoded data removed]",
      "text/plain": [
       "<Figure size 720x576 with 2 Axes>"
      ]
     },
     "metadata": {
      "needs_background": "light"
     },
     "output_type": "display_data"
    }
   ],
   "source": [
    "fig = plt.figure(figsize=(10,8))\n",
    "ax = fig.add_subplot(1,1,1)\n",
    "cax = ax.matshow(df.corr(), vmin=-1, vmax=1)\n",
    "fig.colorbar(cax)\n",
    "ticks = np.arange(0,10,1)\n",
    "ax.set_xticks(ticks)\n",
    "ax.set_yticks(ticks)\n",
    "ax.set_xticklabels(num_colmuns, rotation = 45)\n",
    "ax.set_yticklabels(num_colmuns)"
   ]
  },
  {
   "cell_type": "code",
   "execution_count": 33,
   "metadata": {},
   "outputs": [
    {
     "data": {
      "image/png": "[encoded data removed]",
      "text/plain": [
       "<Figure size 1296x1296 with 10 Axes>"
      ]
     },
     "metadata": {
      "needs_background": "light"
     },
     "output_type": "display_data"
    }
   ],
   "source": [
    "fig = plt.figure(figsize=(18,18))\n",
    "for r in range(0,10):\n",
    "    ax = fig.add_subplot(5,2,r+1)\n",
    "    ax = df[num_colmuns[r]].hist()\n",
    "    ax.set_xlabel(num_colmuns[r])"
   ]
  },
  {
   "cell_type": "code",
   "execution_count": 34,
   "metadata": {},
   "outputs": [
    {
     "data": {
      "image/png": "[encoded data removed]",
      "text/plain": [
       "<Figure size 1800x3312 with 10 Axes>"
      ]
     },
     "metadata": {
      "needs_background": "light"
     },
     "output_type": "display_data"
    }
   ],
   "source": [
    "fig = plt.figure(figsize=(25,46))\n",
    "for r in range(0,10):\n",
    "    ax = fig.add_subplot(5,2,r+1)\n",
    "    ax = df[cat_columns[r]].value_counts().plot(kind = 'bar', rot=35, fontsize = 13)\n",
    "    ax.set_xlabel(cat_columns[r],fontsize = 20)\n",
    "    ax.xaxis.set_label_coords(1.05, -0.025)\n",
    "    ax.set_ylabel('counts')"
   ]
  },
  {
   "cell_type": "code",
   "execution_count": 35,
   "metadata": {},
   "outputs": [],
   "source": [
    "# visualization y"
   ]
  },
  {
   "cell_type": "code",
   "execution_count": 36,
   "metadata": {},
   "outputs": [
    {
     "data": {
      "text/plain": [
       "<AxesSubplot:>"
      ]
     },
     "execution_count": 36,
     "metadata": {},
     "output_type": "execute_result"
    },
    {
     "data": {
      "image/png": "[encoded data removed]",
      "text/plain": [
       "<Figure size 432x288 with 1 Axes>"
      ]
     },
     "metadata": {
      "needs_background": "light"
     },
     "output_type": "display_data"
    }
   ],
   "source": [
    "df['y'].value_counts().plot(kind = 'bar', rot=35, fontsize = 13)"
   ]
  },
  {
   "cell_type": "code",
   "execution_count": 37,
   "metadata": {},
   "outputs": [],
   "source": [
    "# nhận thấy rằng yes và no chênh lệnh nhau nhiều, sẽ ảnh hưởng đến các mô hình sử dụng sau này."
   ]
  },
  {
   "cell_type": "markdown",
   "metadata": {},
   "source": [
    "#### Thay đổi các biến phân loại thành biến số"
   ]
  },
  {
   "cell_type": "code",
   "execution_count": 38,
   "metadata": {},
   "outputs": [
    {
     "data": {
      "text/plain": [
       "age               1\n",
       "campaign          1\n",
       "nr.employed       1\n",
       "euribor3m         1\n",
       "cons.conf.idx     1\n",
       "cons.price.idx    1\n",
       "emp.var.rate      1\n",
       "poutcome          1\n",
       "previous          1\n",
       "pdays             1\n",
       "duration          1\n",
       "job               1\n",
       "day_of_week       1\n",
       "month             1\n",
       "contact           1\n",
       "loan              1\n",
       "housing           1\n",
       "default           1\n",
       "education         1\n",
       "marital           1\n",
       "y                 1\n",
       "dtype: int64"
      ]
     },
     "execution_count": 38,
     "metadata": {},
     "output_type": "execute_result"
    }
   ],
   "source": [
    "df.columns.value_counts()"
   ]
  },
  {
   "cell_type": "code",
   "execution_count": 39,
   "metadata": {},
   "outputs": [],
   "source": [
    "df.drop(['month','day_of_week'], axis=1, inplace=True)\n",
    "df = df.drop(['duration'], axis = 1)"
   ]
  },
  {
   "cell_type": "code",
   "execution_count": 40,
   "metadata": {},
   "outputs": [
    {
     "name": "stdout",
     "output_type": "stream",
     "text": [
      "job :\n",
      "admin.           10156\n",
      "blue-collar       8787\n",
      "technician        6516\n",
      "services          3812\n",
      "management        2798\n",
      "retired           1616\n",
      "entrepreneur      1396\n",
      "self-employed     1387\n",
      "housemaid         1015\n",
      "unemployed         990\n",
      "student            707\n",
      "Name: job, dtype: int64 \n",
      "\n",
      "marital :\n",
      "married     23742\n",
      "single      11022\n",
      "divorced     4416\n",
      "Name: marital, dtype: int64 \n",
      "\n",
      "education :\n",
      "university.degree      12092\n",
      "high.school             9461\n",
      "basic.9y                6006\n",
      "professional.course     5222\n",
      "basic.4y                4118\n",
      "basic.6y                2263\n",
      "illiterate                18\n",
      "Name: education, dtype: int64 \n",
      "\n",
      "default :\n",
      "no           31214\n",
      "undefined     7963\n",
      "yes              3\n",
      "Name: default, dtype: int64 \n",
      "\n",
      "housing :\n",
      "yes          20573\n",
      "no           17661\n",
      "undefined      946\n",
      "Name: housing, dtype: int64 \n",
      "\n",
      "loan :\n",
      "no           32275\n",
      "yes           5959\n",
      "undefined      946\n",
      "Name: loan, dtype: int64 \n",
      "\n",
      "contact :\n",
      "cellular     24974\n",
      "telephone    14206\n",
      "Name: contact, dtype: int64 \n",
      "\n",
      "poutcome :\n",
      "nonexistent    33866\n",
      "failure         4044\n",
      "success         1270\n",
      "Name: poutcome, dtype: int64 \n",
      "\n"
     ]
    }
   ],
   "source": [
    "# Biến mục tiêu để dự báo là y\n",
    "cols = ['job', 'marital', 'education', 'default', 'housing','loan', 'contact', 'poutcome']\n",
    "for name in cols:\n",
    "    print(name,':')\n",
    "    print(df[name].value_counts(),'\\n') "
   ]
  },
  {
   "cell_type": "code",
   "execution_count": 41,
   "metadata": {},
   "outputs": [],
   "source": [
    "# Phân loại các thang do dữ liệu\n",
    "nominal = ['job','marital', 'default', 'housing', 'loan', 'contact', 'poutcome']\n",
    "ordinal = ['education']"
   ]
  },
  {
   "cell_type": "code",
   "execution_count": 42,
   "metadata": {},
   "outputs": [],
   "source": [
    "# Chuyển thang đo nominal sang các biến dummies\n",
    "dummies = pd.get_dummies(df[nominal])\n",
    "forcast = pd.concat([df, dummies],axis=1).drop(nominal, axis=1)"
   ]
  },
  {
   "cell_type": "code",
   "execution_count": 43,
   "metadata": {},
   "outputs": [],
   "source": [
    "# Education, thay thế các khóa học basic1,2,3,4 thành basic, và chuyển thành thang đo 0,1,2,3,4,5 cho các khóa học từ thấp đến cao\n",
    "forcast['education'] = forcast['education'].replace(['basic.4y','basic.6y','basic.9y'], 'basic')\n",
    "\n",
    "mapping_dict = {\n",
    "    \"education\": {\n",
    "        \"university.degree\": 5,\n",
    "        \"professional.course\": 4,\n",
    "        \"basic\": 3,\n",
    "        \"high.school\": 2,\n",
    "        \"illiterate\": 1,\n",
    "    }\n",
    "}\n",
    "forcast = forcast.replace(mapping_dict)"
   ]
  },
  {
   "cell_type": "code",
   "execution_count": 44,
   "metadata": {},
   "outputs": [],
   "source": [
    "# Chuyển đối giá trị trong y thành 0,1 tương ứng với khác hàng không, có đăng ký gửi kỳ hạn\n",
    "mapping_dict_y = {\n",
    "    \"y\": {\n",
    "        \"yes\": 1,\n",
    "        \"no\": 0,\n",
    "    }\n",
    "}\n",
    "forcast = forcast.replace(mapping_dict_y)"
   ]
  },
  {
   "cell_type": "code",
   "execution_count": 45,
   "metadata": {},
   "outputs": [
    {
     "data": {
      "text/plain": [
       "0    34821\n",
       "1     4359\n",
       "Name: y, dtype: int64"
      ]
     },
     "execution_count": 45,
     "metadata": {},
     "output_type": "execute_result"
    }
   ],
   "source": [
    "forcast['y'].value_counts()"
   ]
  },
  {
   "cell_type": "markdown",
   "metadata": {},
   "source": [
    "<h1> Chuẩn bị dữ liệu chạy mô hình"
   ]
  },
  {
   "cell_type": "code",
   "execution_count": 55,
   "metadata": {},
   "outputs": [],
   "source": [
    "from sklearn.dummy import DummyRegressor\n",
    "from sklearn.linear_model import LinearRegression\n",
    "from sklearn.model_selection import train_test_split\n",
    "from sklearn.preprocessing import StandardScaler\n",
    "from sklearn.metrics import r2_score\n",
    "from sklearn.metrics import mean_squared_error, mean_absolute_error, mean_absolute_percentage_error\n",
    "from scipy.stats import f_oneway"
   ]
  },
  {
   "cell_type": "code",
   "execution_count": 56,
   "metadata": {},
   "outputs": [],
   "source": [
    "y= forcast['y'].values\n",
    "X= forcast.drop('y',axis=1).values"
   ]
  },
  {
   "cell_type": "code",
   "execution_count": 57,
   "metadata": {},
   "outputs": [
    {
     "data": {
      "text/plain": [
       "(39180, 1)"
      ]
     },
     "execution_count": 57,
     "metadata": {},
     "output_type": "execute_result"
    }
   ],
   "source": [
    "# Dùng lệnh reshape để định dạng y thành vector cột (mảng 1 cột) \n",
    "y=y.reshape(-1,1)\n",
    "y.shape"
   ]
  },
  {
   "cell_type": "code",
   "execution_count": 58,
   "metadata": {},
   "outputs": [],
   "source": [
    "# chia dữ liệu thành 70% huấn luyện và 30% kiểm tra\n",
    "X_train, X_test,y_train, y_test= train_test_split(X,y,test_size=0.3,random_state=42) "
   ]
  },
  {
   "cell_type": "code",
   "execution_count": 60,
   "metadata": {},
   "outputs": [
    {
     "name": "stdout",
     "output_type": "stream",
     "text": [
      "Mô hình hồi quy tuyến tính đã được huấn luyện, có các tham số:\n",
      "Intercept ( hệ số chặn ) = [-12.36655216]\n",
      "Coefficients ( hệ số góc ) = [[ 0.00027211  0.00556506 -0.00160952 -0.00017644 -0.0070804  -0.09488878\n",
      "   0.16592952  0.00766387  0.02269036 -0.0005174   0.00398128 -0.01273641\n",
      "  -0.01309761 -0.0131282  -0.00957979  0.02466939 -0.00411278 -0.0139304\n",
      "   0.04403546  0.00320848 -0.00930943 -0.00516141 -0.00195135  0.00711276\n",
      "   0.01823874 -0.0018452  -0.01639354  0.00322768 -0.00548738  0.00225969\n",
      "   0.00358643 -0.00548738  0.00190095  0.05378071 -0.05378071 -0.08837188\n",
      "  -0.0236701   0.11204198]]\n"
     ]
    }
   ],
   "source": [
    "reg = LinearRegression().fit(X_train, y_train)\n",
    "print(\"Mô hình hồi quy tuyến tính đã được huấn luyện, có các tham số:\")\n",
    "print(\"Intercept ( hệ số chặn ) =\", reg.intercept_)\n",
    "print(\"Coefficients ( hệ số góc ) =\", reg.coef_)"
   ]
  },
  {
   "cell_type": "code",
   "execution_count": 61,
   "metadata": {},
   "outputs": [
    {
     "name": "stdout",
     "output_type": "stream",
     "text": [
      "0.08053795760562507\n",
      "374430269992351.4\n"
     ]
    }
   ],
   "source": [
    "pred = reg.predict(X_test)\n",
    "print(mean_squared_error(y_test, pred))\n",
    "print(mean_absolute_percentage_error(y_test, pred)) "
   ]
  },
  {
   "cell_type": "code",
   "execution_count": 62,
   "metadata": {},
   "outputs": [],
   "source": [
    "from sklearn.tree import DecisionTreeRegressor\n",
    "from sklearn.ensemble import RandomForestRegressor "
   ]
  },
  {
   "cell_type": "code",
   "execution_count": 63,
   "metadata": {},
   "outputs": [
    {
     "data": {
      "text/plain": [
       "DecisionTreeRegressor(random_state=42)"
      ]
     },
     "execution_count": 63,
     "metadata": {},
     "output_type": "execute_result"
    }
   ],
   "source": [
    "## cây quyết định\n",
    "regressor = DecisionTreeRegressor(random_state = 42) \n",
    "regressor.fit(X_train, y_train)"
   ]
  },
  {
   "cell_type": "code",
   "execution_count": 64,
   "metadata": {},
   "outputs": [
    {
     "name": "stdout",
     "output_type": "stream",
     "text": [
      "0.1560717155389182\n",
      "379846737330911.3\n"
     ]
    }
   ],
   "source": [
    "prediction = regressor.predict(X_test)\n",
    "print(mean_squared_error(y_test, prediction))\n",
    "print(mean_absolute_percentage_error(y_test, prediction))"
   ]
  },
  {
   "cell_type": "code",
   "execution_count": 65,
   "metadata": {},
   "outputs": [
    {
     "name": "stderr",
     "output_type": "stream",
     "text": [
      "C:\\Users\\ACERNI~1\\AppData\\Local\\Temp/ipykernel_8296/3929511254.py:4: DataConversionWarning: A column-vector y was passed when a 1d array was expected. Please change the shape of y to (n_samples,), for example using ravel().\n",
      "  regr.fit(X_train, y_train)\n"
     ]
    },
    {
     "data": {
      "text/plain": [
       "RandomForestRegressor(max_depth=2, random_state=42)"
      ]
     },
     "execution_count": 65,
     "metadata": {},
     "output_type": "execute_result"
    }
   ],
   "source": [
    "## randomforest\n",
    "# random forest\n",
    "regr = RandomForestRegressor(max_depth=2, random_state=42)\n",
    "regr.fit(X_train, y_train)"
   ]
  },
  {
   "cell_type": "code",
   "execution_count": 66,
   "metadata": {},
   "outputs": [
    {
     "name": "stdout",
     "output_type": "stream",
     "text": [
      "0.08121283519456343\n",
      "357484092410693.4\n"
     ]
    }
   ],
   "source": [
    "predict = regr.predict(X_test)\n",
    "print(mean_squared_error(y_test, predict))\n",
    "print(mean_absolute_percentage_error(y_test, predict))"
   ]
  },
  {
   "cell_type": "markdown",
   "metadata": {},
   "source": [
    "#### Có thể thấy rằng 2 mô hình linear và random forest cho ra kết tốt với sai số 0.08%"
   ]
  },
  {
   "cell_type": "code",
   "execution_count": null,
   "metadata": {},
   "outputs": [],
   "source": []
  }
 ],
 "metadata": {
  "kernelspec": {
   "display_name": "Python 3.9.7 ('base')",
   "language": "python",
   "name": "python3"
  },
  "language_info": {
   "codemirror_mode": {
    "name": "ipython",
    "version": 3
   },
   "file_extension": ".py",
   "mimetype": "text/x-python",
   "name": "python",
   "nbconvert_exporter": "python",
   "pygments_lexer": "ipython3",
   "version": "3.9.7"
  },
  "orig_nbformat": 4,
  "vscode": {
   "interpreter": {
    "hash": "440c4360214cbd7cb3475a2b2e6c78f31c1d32bf5ea0dc5c31a0d7dd8338aeb9"
   }
  }
 },
 "nbformat": 4,
 "nbformat_minor": 2
}
